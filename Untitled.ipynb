{
 "cells": [
  {
   "cell_type": "code",
   "execution_count": 30,
   "id": "3dc95c48-acbf-4602-af3b-4da2a2d10544",
   "metadata": {},
   "outputs": [
    {
     "name": "stdout",
     "output_type": "stream",
     "text": [
      "[1 2 3 4 5]\n",
      "3\n",
      "[2 3 4]\n",
      "[[5 6 7 8]]\n",
      "[[1 2 3 4]]\n"
     ]
    }
   ],
   "source": [
    "import numpy as np\n",
    "\n",
    "arrays = np.array([1,2,3,4,5])\n",
    "print(arrays)\n",
    "print(arrays[2])\n",
    "\n",
    "# slicing\n",
    "print(arrays[1:4])\n",
    "print(two_d_arrays[1:3:2])\n",
    "print(two_d_arrays[0:5:2])"
   ]
  },
  {
   "cell_type": "code",
   "execution_count": 24,
   "id": "e79f9362-2de9-4769-b0b0-5ac605f121de",
   "metadata": {},
   "outputs": [
    {
     "name": "stdout",
     "output_type": "stream",
     "text": [
      "[[1 2 3 4]\n",
      " [5 6 7 8]]\n",
      "2\n",
      "5\n",
      "11\n",
      "The sum is:  11\n",
      "Last element of the 2nd dim:  8\n",
      "First element of the 2nd dim:  6\n",
      "[[5 6 7 8]]\n",
      "[[5 6 7 8]]\n"
     ]
    }
   ],
   "source": [
    "import numpy as np\n",
    "\n",
    "two_d_arrays = np.array([[1,2,3,4],[5,6,7,8]])\n",
    "print(two_d_arrays)\n",
    "print(two_d_arrays.ndim)\n",
    "print(two_d_arrays[1][0])\n",
    "print(two_d_arrays[0][2] + two_d_arrays[1][3])\n",
    "print('The sum is: ',two_d_arrays[0,2]+ two_d_arrays[1,3])\n",
    "print('Last element of the 2nd dim: ', two_d_arrays[1,-1])\n",
    "print('First element of the 2nd dim: ', two_d_arrays[-1,1])\n",
    "\n",
    "# slicing\n",
    "print(two_d_arrays[1:2])\n",
    "print(two_d_arrays[1:3:2])\n",
    "print()"
   ]
  },
  {
   "cell_type": "code",
   "execution_count": 11,
   "id": "70f72396-c455-4b4d-b25f-4c6ce5221fe2",
   "metadata": {},
   "outputs": [
    {
     "name": "stdout",
     "output_type": "stream",
     "text": [
      "[[[ 1  2  3]\n",
      "  [ 4  5  6]]\n",
      "\n",
      " [[ 7  8  9]\n",
      "  [10 11 12]]]\n",
      "3\n",
      "17\n"
     ]
    }
   ],
   "source": [
    "import numpy as np\n",
    "\n",
    "three_d_array = np.array([[[1,2,3],[4,5,6]],[[7,8,9],[10,11,12]]])\n",
    "print(three_d_array)\n",
    "print(three_d_array.ndim)\n",
    "print(three_d_array[0,1,2]+three_d_array[1,1,1])\n"
   ]
  },
  {
   "cell_type": "code",
   "execution_count": 8,
   "id": "438c8d6f-96a2-4d33-bfec-5da1a12312f1",
   "metadata": {},
   "outputs": [
    {
     "name": "stdout",
     "output_type": "stream",
     "text": [
      "[['2' '3' '4' '5']\n",
      " ['3' '4' '5' '6']\n",
      " ['4' '5' '6' '7']\n",
      " ['5' '6' '7' '8']]\n",
      "<class 'numpy.str_'>\n"
     ]
    },
    {
     "data": {
      "text/plain": [
       "array([[2., 3., 4., 5.],\n",
       "       [3., 4., 5., 6.],\n",
       "       [4., 5., 6., 7.],\n",
       "       [5., 6., 7., 8.]])"
      ]
     },
     "execution_count": 8,
     "metadata": {},
     "output_type": "execute_result"
    }
   ],
   "source": [
    " import numpy as np\n",
    "arrays = np.array([[\"2\",3,4,5],[3,4,5,6],[4,5,6,7],[5,6,7,8]])\n",
    "print(arrays)\n",
    "print(type(arrays[0,0]))\n",
    "arrays.astype(float)"
   ]
  },
  {
   "cell_type": "code",
   "execution_count": 18,
   "id": "0de9da4b-a12e-4e89-aa6f-b4f7b8e8a628",
   "metadata": {},
   "outputs": [
    {
     "name": "stdout",
     "output_type": "stream",
     "text": [
      "(4, 4)\n",
      "[['2' '3']\n",
      " ['4' '5']\n",
      " ['3' '4']\n",
      " ['5' '6']\n",
      " ['4' '5']\n",
      " ['6' '7']\n",
      " ['5' '6']\n",
      " ['7' '8']]\n",
      "(8, 2)\n"
     ]
    }
   ],
   "source": [
    "print(arrays.shape)\n",
    "dimension_arr = arrays.reshape(8,2)\n",
    "print(dimension_arr)\n",
    "print(dimension_arr.shape)"
   ]
  },
  {
   "cell_type": "code",
   "execution_count": 25,
   "id": "4d2e0d51-62da-475b-9abc-03c64a6d2b61",
   "metadata": {},
   "outputs": [
    {
     "name": "stdout",
     "output_type": "stream",
     "text": [
      "1\n",
      "2\n",
      "3\n",
      "4\n",
      "5\n",
      "6\n",
      "7\n",
      "8\n",
      "9\n",
      "10\n",
      "11\n",
      "12\n",
      "[[[ 1  2  3]\n",
      "  [ 4  5  6]]\n",
      "\n",
      " [[ 7  8  9]\n",
      "  [10 11 12]]]\n",
      "[[[ 1  2]\n",
      "  [ 3  4]\n",
      "  [ 5  6]]\n",
      "\n",
      " [[ 7  8]\n",
      "  [ 9 10]\n",
      "  [11 12]]]\n",
      "[[ 1  2]\n",
      " [ 3  4]\n",
      " [ 5  6]\n",
      " [ 7  8]\n",
      " [ 9 10]\n",
      " [11 12]]\n"
     ]
    }
   ],
   "source": [
    "import numpy as np\n",
    "joy = np.array([1,2,3,4,5,6,7,8,9,10,11,12])\n",
    "two_d = joy.reshape(2,2,3)\n",
    "three_d = joy.reshape(2,3,2)\n",
    "six_two = joy.reshape(6,2)\n",
    "arr = np.array([1,2,3])\n",
    "for x in joy:\n",
    "    print(x)\n",
    "print(two_d)\n",
    "\n",
    "\n",
    "print(three_d)\n",
    "\n",
    "\n",
    "print(six_two)"
   ]
  },
  {
   "cell_type": "code",
   "execution_count": 30,
   "id": "42f859a0-c6aa-4b5a-90a3-46559fe23539",
   "metadata": {},
   "outputs": [
    {
     "name": "stdout",
     "output_type": "stream",
     "text": [
      "1\n",
      "2\n",
      "3\n",
      "4\n",
      "5\n",
      "6\n"
     ]
    }
   ],
   "source": [
    "\n",
    "two_arr = np.array([[1,2,3],[4,5,6]])\n",
    "for x in two_arr:\n",
    "    for y in x:\n",
    "        print(y)"
   ]
  },
  {
   "cell_type": "code",
   "execution_count": 32,
   "id": "293da2f1-540b-4d75-ba7f-83d0f14ebfde",
   "metadata": {},
   "outputs": [
    {
     "name": "stdout",
     "output_type": "stream",
     "text": [
      "1\n",
      "2\n",
      "3\n",
      "4\n",
      "5\n",
      "6\n",
      "16\n",
      "7\n",
      "8\n",
      "6\n",
      "74\n",
      "56\n"
     ]
    }
   ],
   "source": [
    "three_arr = np.array([[[1,2,3],[4,5,6]],[[16,7,8],[6,74,56]]])\n",
    "for x in np.nditer(three_arr):\n",
    "    print(x)"
   ]
  },
  {
   "cell_type": "code",
   "execution_count": 34,
   "id": "8de91273-bf76-4423-9ac4-5722039394ae",
   "metadata": {},
   "outputs": [
    {
     "name": "stdout",
     "output_type": "stream",
     "text": [
      "1\n",
      "3\n",
      "5\n",
      "7\n"
     ]
    }
   ],
   "source": [
    "anoda_arr = np.array([[1,2,3,4],[5,6,7,8]])\n",
    "for x in np.nditer(anoda_arr[:,::2]):\n",
    "    print(x)"
   ]
  },
  {
   "cell_type": "code",
   "execution_count": 37,
   "id": "8b43e7fb-0fb5-4518-8663-03ded09e48ed",
   "metadata": {},
   "outputs": [
    {
     "name": "stdout",
     "output_type": "stream",
     "text": [
      "(0,) 1\n",
      "(1,) 2\n",
      "(2,) 3\n"
     ]
    }
   ],
   "source": [
    "arrayz = np.array([1,2,3])\n",
    "for idx,x in np.ndenumerate(arrayz):\n",
    "    print(idx, x)"
   ]
  },
  {
   "cell_type": "code",
   "execution_count": 39,
   "id": "3625d6b2-43b5-44ef-9606-809d72fcb282",
   "metadata": {},
   "outputs": [
    {
     "name": "stdout",
     "output_type": "stream",
     "text": [
      "[1 2 3 4 5 6]\n"
     ]
    }
   ],
   "source": [
    "arr1 = np.array([1,2,3])\n",
    "arr2 = np.array([4,5,6])\n",
    "anoda_one = np.concatenate((arr1, arr2))\n",
    "print(anoda_one)"
   ]
  },
  {
   "cell_type": "code",
   "execution_count": 40,
   "id": "8b3b4855-a051-410b-aa4f-c1194b1f8165",
   "metadata": {},
   "outputs": [
    {
     "name": "stdout",
     "output_type": "stream",
     "text": [
      "[[1 2 5 6]\n",
      " [3 4 7 8]]\n"
     ]
    }
   ],
   "source": [
    "arr_1 = np.array([[1,2],[3,4]])\n",
    "arr_2 = np.array([[5,6],[7,8]])\n",
    "arrz = np.concatenate((arr_1,arr_2),axis=1)\n",
    "print(arrz)"
   ]
  },
  {
   "cell_type": "code",
   "execution_count": null,
   "id": "ba503c7e-330f-4b1c-8f75-bc03ffe5c14c",
   "metadata": {},
   "outputs": [],
   "source": []
  }
 ],
 "metadata": {
  "kernelspec": {
   "display_name": "Python 3 (ipykernel)",
   "language": "python",
   "name": "python3"
  },
  "language_info": {
   "codemirror_mode": {
    "name": "ipython",
    "version": 3
   },
   "file_extension": ".py",
   "mimetype": "text/x-python",
   "name": "python",
   "nbconvert_exporter": "python",
   "pygments_lexer": "ipython3",
   "version": "3.12.0"
  }
 },
 "nbformat": 4,
 "nbformat_minor": 5
}
